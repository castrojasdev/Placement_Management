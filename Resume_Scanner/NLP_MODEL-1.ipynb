{
 "cells": [
  {
   "cell_type": "markdown",
   "id": "265383ab",
   "metadata": {},
   "source": [
    "## Import Packages"
   ]
  },
  {
   "cell_type": "code",
   "execution_count": 1,
   "id": "a0a2ec5d",
   "metadata": {},
   "outputs": [],
   "source": [
    "import io\n",
    "import os\n",
    "import re\n",
    "import nltk \n",
    "import spacy\n",
    "import pandas as pd\n",
    "import docx2txt\n",
    "import constants as cs\n",
    "import string\n",
    "import re\n",
    "import os\n",
    "import utils\n",
    "import spacy\n",
    "import pprint\n",
    "from spacy.matcher import Matcher\n",
    "import multiprocessing as mp \n",
    "import warnings\n",
    "warnings.filterwarnings('ignore')\n",
    "import numpy as np\n",
    "import pandas as pd\n",
    "import matplotlib.pyplot as plt\n",
    "import seaborn as sns\n",
    "sns.set_style('darkgrid')\n",
    "import warnings\n",
    "warnings.filterwarnings('ignore')\n",
    "import re\n",
    "from sklearn.preprocessing import LabelEncoder\n",
    "from sklearn.model_selection import train_test_split\n",
    "from sklearn.feature_extraction.text import TfidfVectorizer\n",
    "from scipy.sparse import hstack\n",
    "from sklearn.multiclass import OneVsRestClassifier\n",
    "from sklearn.neighbors import KNeighborsClassifier\n",
    "from sklearn import metrics\n",
    "import re\n",
    "import nltk\n",
    "from nltk.corpus import stopwords"
   ]
  },
  {
   "cell_type": "markdown",
   "id": "ce7c3c8d",
   "metadata": {},
   "source": [
    "### Explore pdf"
   ]
  },
  {
   "cell_type": "code",
   "execution_count": 2,
   "id": "1301215a",
   "metadata": {},
   "outputs": [
    {
     "data": {
      "text/plain": [
       "<_io.BufferedReader name='model_8.pdf'>"
      ]
     },
     "execution_count": 2,
     "metadata": {},
     "output_type": "execute_result"
    }
   ],
   "source": [
    "import PyPDF2 as pdf\n",
    "file = open('model_8.pdf', 'rb')\n",
    "file"
   ]
  },
  {
   "cell_type": "code",
   "execution_count": 3,
   "id": "2bca4411",
   "metadata": {},
   "outputs": [
    {
     "data": {
      "text/plain": [
       "<PyPDF2._reader.PdfFileReader at 0x1602df5c9d0>"
      ]
     },
     "execution_count": 3,
     "metadata": {},
     "output_type": "execute_result"
    }
   ],
   "source": [
    "pdf_reader = pdf.PdfFileReader(file)\n",
    "pdf_reader"
   ]
  },
  {
   "cell_type": "markdown",
   "id": "e237e969",
   "metadata": {},
   "source": [
    "### Extract the text"
   ]
  },
  {
   "cell_type": "code",
   "execution_count": 4,
   "id": "b056b358",
   "metadata": {},
   "outputs": [
    {
     "data": {
      "text/plain": [
       "'  ROBERT  SMITH   \\n \\n9475838374  \\nEmail:  info@qwikresume.com   Website:  www.qwikresume.com  \\nLinkedIn:  linkedin.com/qwikresume  Address:  1737, \\nAlabama.  \\nObjective   \\nOver 6 years  of IT industry  experience  with 4+ years  of experience  as Mobile  application  \\ndeveloper in the field of Android. Experience in developing front end applications for Android  \\nphones.  Experience  developing  mobile  applications  on Android  platform,  building  Custom  UI using \\nViews,  ViewGroups,  Layouts,  Widgets  and graphics  that scale  based  on the screen  size using  9- \\npatch  images,  localization, testing  and publishing  the applications  to the Android  Market.  \\n \\nSkills   \\nPython,  Java,  C, Javascript,  Matlab,  R. \\nDomain . \\nJava  Developer . \\n \\n \\nWork  Experience   \\nABC Corporation  \\xad January  2011  – March  2012  \\n• Environment  Eclipse  IDE, Android  Studio,  GenyMotion,  Java,  Android  SDK, Android  \\nDevelopment Tools (ADT), JSON, XML, \\n• Involved  in the  full life cycle  of the project including analysis  design,  development,  debugging,  \\ntesting,  and deployment.  \\n• Developed  the application  from specifications  and requirement  gathering.  \\n• Independently  handled  modules,  scope,  analysis,  design,  build,  test the code,  debug  and \\nimplement  application.  \\n• Developed  products  section  of the application  which  provided  Multiple  Activities,  Custom  \\nAdapters,  Base Adapter,  List views,  Links,  Web View,  Text Views  and so on. \\n• Developed  Navigation  Drawer  for the application,  which  provides  better  navigation  of apps \\nfeatures.  \\n• Created  new UI Screens  and key resource  for layout  UI work  utilizing  xml, Shape  Drawable,  \\nText View,  List View,  Web View,  Buttons,  Activities,  and Frame  Layout.  \\nAndroid  Developer  \\nABC Corporation  \\xad 2006  – 2011  \\n• Helped  Develop  Insight,  which  is a tablet  application  that retrieves  data from a CPE and \\ndisplays  it \\n• This is done  to debug  the DSL activity  in someones  home  \\n• Pulled  info from a cloud  server  and coded  it onto a  tablet  \\n• Worked  on UI and backend  construction  \\n• Connected  to various  computer  boards  where  I retrieved Wi -Fi information from  a server  - \\nDebugged  code  that was previously  worked  on by an outsourced  company  \\nEducation   \\nIT Technology - 2011(Gyumri  Information  Technologies  Center)  '"
      ]
     },
     "execution_count": 4,
     "metadata": {},
     "output_type": "execute_result"
    }
   ],
   "source": [
    "pdf_reader.getNumPages()\n",
    "page1 = pdf_reader.getPage(0)\n",
    "resumeText = page1.extractText()[:5000]\n",
    "resumeText"
   ]
  },
  {
   "cell_type": "markdown",
   "id": "2aa625c1",
   "metadata": {},
   "source": [
    "### NLP : Regular Expression"
   ]
  },
  {
   "cell_type": "code",
   "execution_count": 5,
   "id": "4ae7d177",
   "metadata": {},
   "outputs": [
    {
     "data": {
      "text/plain": [
       "' ROBERT SMITH 9475838374 Email: info@qwikresume.com Website: www.qwikresume.com LinkedIn: linkedin.com/qwikresume Address: 1737, Alabama. Objective Over 6 years of IT industry experience with 4+ years of experience as Mobile application developer in the field of Android. Experience in developing front end applications for Android phones. Experience developing mobile applications on Android platform, building Custom UI using Views, ViewGroups, Layouts, Widgets and graphics that scale based on the screen size using 9- patch images, localization, testing and publishing the applications to the Android Market. Skills Python, Java, C, Javascript, Matlab, R. Domain . Java Developer . Work Experience ABC Corporation January 2011 March 2012 Environment Eclipse IDE, Android Studio, GenyMotion, Java, Android SDK, Android Development Tools (ADT), JSON, XML, Involved in the full life cycle of the project including analysis design, development, debugging, testing, and deployment. Developed the application from specifications and requirement gathering. Independently handled modules, scope, analysis, design, build, test the code, debug and implement application. Developed products section of the application which provided Multiple Activities, Custom Adapters, Base Adapter, List views, Links, Web View, Text Views and so on. Developed Navigation Drawer for the application, which provides better navigation of apps features. Created new UI Screens and key resource for layout UI work utilizing xml, Shape Drawable, Text View, List View, Web View, Buttons, Activities, and Frame Layout. Android Developer ABC Corporation 2006 2011 Helped Develop Insight, which is a tablet application that retrieves data from a CPE and displays it This is done to debug the DSL activity in someones home Pulled info from a cloud server and coded it onto a tablet Worked on UI and backend construction Connected to various computer boards where I retrieved Wi -Fi information from a server - Debugged code that was previously worked on by an outsourced company Education IT Technology - 2011(Gyumri Information Technologies Center) '"
      ]
     },
     "execution_count": 5,
     "metadata": {},
     "output_type": "execute_result"
    }
   ],
   "source": [
    "def cleanResume(resumeText):                                                                   #NLP : REG EXP\n",
    "    #resumeText = re.sub('http\\S+\\s*', ' ', resumeText)  # remove URLs\n",
    "   # resumeText = re.sub('RT|cc', ' ', resumeText)  # remove RT and cc\n",
    "    #resumeText = re.sub(r'\\n', ',', resumeText)\n",
    "    resumeText = re.sub('#\\S+', '', resumeText)  # remove hashtags\n",
    "   # resumeText = re.sub('@\\S+', '  ', resumeText)  # remove mentions\n",
    "   # resumeText = re.sub('[%s]' % re.escape(\"\"\"!\"#$%&'()*+,-./:;<=>?@[\\]^_`{|}~\"\"\"), ' ', resumeText)  # remove punctuations\n",
    "   # resumeText = re.sub('[%s]' % re.escape(\"\"\"!\"#$%&'()*,-/<=>?[]^`{|}~\"\"\"), ' ', resumeText)\n",
    "    resumeText = re.sub(r'[^\\x00-\\x7f]',r' ', resumeText) \n",
    "    resumeText = re.sub('\\s+', ' ', resumeText)  # remove extra whitespace\n",
    "    return resumeText\n",
    "clean = cleanResume(resumeText)\n",
    "clean"
   ]
  },
  {
   "cell_type": "code",
   "execution_count": 6,
   "id": "88d8799c",
   "metadata": {},
   "outputs": [
    {
     "data": {
      "text/plain": [
       "'ROBERT SMITH 9475838374 Email: info@qwikresume.com Website: www.qwikresume.com LinkedIn: linkedin.com/qwikresume Address: 1737, Alabama. Objective Over 6 years of IT industry experience with 4+ years of experience as Mobile application developer in the field of Android. Experience in developing front end applications for Android phones. Experience developing mobile applications on Android platform, building Custom UI using Views, ViewGroups, Layouts, Widgets and graphics that scale based on the screen size using 9- patch images, localization, testing and publishing the applications to the Android Market. Skills Python, Java, C, Javascript, Matlab, R. Domain . Java Developer . Work Experience ABC Corporation January 2011 March 2012 Environment Eclipse IDE, Android Studio, GenyMotion, Java, Android SDK, Android Development Tools (ADT), JSON, XML, Involved in the full life cycle of the project including analysis design, development, debugging, testing, and deployment. Developed the application from specifications and requirement gathering. Independently handled modules, scope, analysis, design, build, test the code, debug and implement application. Developed products section of the application which provided Multiple Activities, Custom Adapters, Base Adapter, List views, Links, Web View, Text Views and so on. Developed Navigation Drawer for the application, which provides better navigation of apps features. Created new UI Screens and key resource for layout UI work utilizing xml, Shape Drawable, Text View, List View, Web View, Buttons, Activities, and Frame Layout. Android Developer ABC Corporation 2006 2011 Helped Develop Insight, which is a tablet application that retrieves data from a CPE and displays it This is done to debug the DSL activity in someones home Pulled info from a cloud server and coded it onto a tablet Worked on UI and backend construction Connected to various computer boards where I retrieved Wi -Fi information from a server - Debugged code that was previously worked on by an outsourced company Education IT Technology - 2011(Gyumri Information Technologies Center)'"
      ]
     },
     "execution_count": 6,
     "metadata": {},
     "output_type": "execute_result"
    }
   ],
   "source": [
    "clean = \" \".join(clean.split())\n",
    "clean"
   ]
  },
  {
   "cell_type": "code",
   "execution_count": null,
   "id": "5293ea35",
   "metadata": {},
   "outputs": [],
   "source": []
  },
  {
   "cell_type": "markdown",
   "id": "dc6ab5f4",
   "metadata": {},
   "source": [
    "### NLP : Tokenize[Word Tokenize]"
   ]
  },
  {
   "cell_type": "code",
   "execution_count": 14,
   "id": "020e7d15",
   "metadata": {},
   "outputs": [
    {
     "name": "stdout",
     "output_type": "stream",
     "text": [
      "['ROBERT', 'SMITH', '9475838374', 'Email', ':', 'info', '@', 'qwikresume.com', 'Website', ':', 'www.qwikresume.com', 'LinkedIn', ':', 'linkedin.com/qwikresume', 'Address', ':', '1737', ',', 'Alabama', '.', 'Objective', 'Over', '6', 'years', 'of', 'IT', 'industry', 'experience', 'with', '4+', 'years', 'of', 'experience', 'as', 'Mobile', 'application', 'developer', 'in', 'the', 'field', 'of', 'Android', '.', 'Experience', 'in', 'developing', 'front', 'end', 'applications', 'for', 'Android', 'phones', '.', 'Experience', 'developing', 'mobile', 'applications', 'on', 'Android', 'platform', ',', 'building', 'Custom', 'UI', 'using', 'Views', ',', 'ViewGroups', ',', 'Layouts', ',', 'Widgets', 'and', 'graphics', 'that', 'scale', 'based', 'on', 'the', 'screen', 'size', 'using', '9-', 'patch', 'images', ',', 'localization', ',', 'testing', 'and', 'publishing', 'the', 'applications', 'to', 'the', 'Android', 'Market', '.', 'Skills', 'Python', ',', 'Java', ',', 'C', ',', 'Javascript', ',', 'Matlab', ',', 'R.', 'Domain', '.', 'Java', 'Developer', '.', 'Work', 'Experience', 'ABC', 'Corporation', 'January', '2011', 'March', '2012', 'Environment', 'Eclipse', 'IDE', ',', 'Android', 'Studio', ',', 'GenyMotion', ',', 'Java', ',', 'Android', 'SDK', ',', 'Android', 'Development', 'Tools', '(', 'ADT', ')', ',', 'JSON', ',', 'XML', ',', 'Involved', 'in', 'the', 'full', 'life', 'cycle', 'of', 'the', 'project', 'including', 'analysis', 'design', ',', 'development', ',', 'debugging', ',', 'testing', ',', 'and', 'deployment', '.', 'Developed', 'the', 'application', 'from', 'specifications', 'and', 'requirement', 'gathering', '.', 'Independently', 'handled', 'modules', ',', 'scope', ',', 'analysis', ',', 'design', ',', 'build', ',', 'test', 'the', 'code', ',', 'debug', 'and', 'implement', 'application', '.', 'Developed', 'products', 'section', 'of', 'the', 'application', 'which', 'provided', 'Multiple', 'Activities', ',', 'Custom', 'Adapters', ',', 'Base', 'Adapter', ',', 'List', 'views', ',', 'Links', ',', 'Web', 'View', ',', 'Text', 'Views', 'and', 'so', 'on', '.', 'Developed', 'Navigation', 'Drawer', 'for', 'the', 'application', ',', 'which', 'provides', 'better', 'navigation', 'of', 'apps', 'features', '.', 'Created', 'new', 'UI', 'Screens', 'and', 'key', 'resource', 'for', 'layout', 'UI', 'work', 'utilizing', 'xml', ',', 'Shape', 'Drawable', ',', 'Text', 'View', ',', 'List', 'View', ',', 'Web', 'View', ',', 'Buttons', ',', 'Activities', ',', 'and', 'Frame', 'Layout', '.', 'Android', 'Developer', 'ABC', 'Corporation', '2006', '2011', 'Helped', 'Develop', 'Insight', ',', 'which', 'is', 'a', 'tablet', 'application', 'that', 'retrieves', 'data', 'from', 'a', 'CPE', 'and', 'displays', 'it', 'This', 'is', 'done', 'to', 'debug', 'the', 'DSL', 'activity', 'in', 'someones', 'home', 'Pulled', 'info', 'from', 'a', 'cloud', 'server', 'and', 'coded', 'it', 'onto', 'a', 'tablet', 'Worked', 'on', 'UI', 'and', 'backend', 'construction', 'Connected', 'to', 'various', 'computer', 'boards', 'where', 'I', 'retrieved', 'Wi', '-Fi', 'information', 'from', 'a', 'server', '-', 'Debugged', 'code', 'that', 'was', 'previously', 'worked', 'on', 'by', 'an', 'outsourced', 'company', 'Education', 'IT', 'Technology', '-', '2011', '(', 'Gyumri', 'Information', 'Technologies', 'Center', ')']\n"
     ]
    }
   ],
   "source": [
    "from nltk.tokenize import word_tokenize                                                             #NLP : Tokenize\n",
    "tokens = word_tokenize(clean)\n",
    "print(tokens)\n",
    "tok_name = set(tokens)"
   ]
  },
  {
   "cell_type": "markdown",
   "id": "1643b4b8",
   "metadata": {},
   "source": [
    "### NLP : POS Tagging"
   ]
  },
  {
   "cell_type": "code",
   "execution_count": 15,
   "id": "1934185d",
   "metadata": {},
   "outputs": [
    {
     "name": "stdout",
     "output_type": "stream",
     "text": [
      "Name:  ROBERT SMITH\n"
     ]
    }
   ],
   "source": [
    "import spacy                                                                                                        #Name\n",
    "import en_core_web_sm\n",
    "from spacy.matcher import Matcher\n",
    "\n",
    "# load pre-trained model\n",
    "nlp = en_core_web_sm.load()\n",
    "\n",
    "# initialize matcher with a vocab\n",
    "matcher = Matcher(nlp.vocab)\n",
    "\n",
    "\n",
    "def extract_name(resume_text):\n",
    "    nlp_text = nlp(resume_text)\n",
    "    \n",
    "    # First name and Last name are always Proper Nouns\n",
    "    pattern = [{'POS': 'PROPN'}, {'POS': 'PROPN'}]\n",
    "    \n",
    "    matcher.add('NAME', [pattern], on_match=None)\n",
    "    \n",
    "    matches = matcher(nlp_text)\n",
    "    \n",
    "    for match_id, start, end in matches:\n",
    "        span = nlp_text[start:end]\n",
    "        return span.text\n",
    "name = extract_name(clean)\n",
    "print('Name: ',name)\n",
    "\n",
    "Emp_name = name                                                                                #Get a name "
   ]
  },
  {
   "cell_type": "code",
   "execution_count": 9,
   "id": "0ac07eab",
   "metadata": {},
   "outputs": [
    {
     "name": "stdout",
     "output_type": "stream",
     "text": [
      "Skills ['python', 'code', 'matlab', 'c', 'javascript', 'java']\n"
     ]
    }
   ],
   "source": [
    "lis = []                                                                                                        #Skills\n",
    "\n",
    "for word in tok_name:\n",
    "    lis.append(word.lower())\n",
    "str = lis\n",
    "\n",
    "import Values as v\n",
    "a = set(str)\n",
    "b = set(v.str1)\n",
    "c = []\n",
    "\n",
    "for i in a:\n",
    "    if i in b:\n",
    "        c.append(i)\n",
    "print(\"Skills\",c)\n",
    "\n",
    "Emp_skill =  f'\"{c}\"'                                                          #Skill"
   ]
  },
  {
   "cell_type": "markdown",
   "id": "2d00d4fb",
   "metadata": {},
   "source": [
    "### NLP : Regular Expression"
   ]
  },
  {
   "cell_type": "code",
   "execution_count": 10,
   "id": "e2a52d42",
   "metadata": {},
   "outputs": [
    {
     "name": "stdout",
     "output_type": "stream",
     "text": [
      "info@qwikresume.com\n"
     ]
    }
   ],
   "source": [
    "from pdfminer.high_level import extract_text                                                      #EMAIL\n",
    " \n",
    "EMAIL_REG = re.compile(r'[a-z0-9\\.\\-+_]+@[a-z0-9\\.\\-+_]+\\.[a-z]+')\n",
    "def extract_emails(text):\n",
    "    return re.findall(EMAIL_REG, clean)\n",
    "text = clean\n",
    "emails = extract_emails(clean)\n",
    " \n",
    "if emails:\n",
    "    mail = emails[0]\n",
    "    print(mail)\n",
    "    \n",
    "Emp_mail = mail"
   ]
  },
  {
   "cell_type": "markdown",
   "id": "02135ae3",
   "metadata": {},
   "source": [
    "### NLP : Regular Expression"
   ]
  },
  {
   "cell_type": "code",
   "execution_count": 11,
   "id": "86804a91",
   "metadata": {},
   "outputs": [
    {
     "name": "stdout",
     "output_type": "stream",
     "text": [
      "Mobile Number:  9475838374\n"
     ]
    }
   ],
   "source": [
    "def extract_mobile_number(resume_text):                                                      #Mobile\n",
    "    phone = re.findall(re.compile(r'(?:(?:\\+?([1-9]|[0-9][0-9]|[0-9][0-9][0-9])\\s*(?:[.-]\\s*)?)?(?:\\(\\s*([2-9]1[02-9]|[2-9][02-8]1|[2-9][02-8][02-9])\\s*\\)|([0-9][1-9]|[0-9]1[02-9]|[2-9][02-8]1|[2-9][02-8][02-9]))\\s*(?:[.-]\\s*)?)?([2-9]1[02-9]|[2-9][02-9]1|[2-9][02-9]{2})\\s*(?:[.-]\\s*)?([0-9]{4})(?:\\s*(?:#|x\\.?|ext\\.?|extension)\\s*(\\d+))?'), resume_text)\n",
    "    \n",
    "    if phone:\n",
    "        number = ''.join(phone[0])\n",
    "        if len(number) > 10:\n",
    "            return number\n",
    "        else:\n",
    "            return number\n",
    "mobile = extract_mobile_number(clean)\n",
    "print('Mobile Number: ',mobile)\n",
    "\n",
    "Emp_Mobile = mobile"
   ]
  },
  {
   "cell_type": "markdown",
   "id": "4179f17a",
   "metadata": {},
   "source": [
    "### NLP : Tokenize[Sentence Tokenize]"
   ]
  },
  {
   "cell_type": "code",
   "execution_count": 12,
   "id": "74c54cfd",
   "metadata": {},
   "outputs": [
    {
     "name": "stdout",
     "output_type": "stream",
     "text": [
      "['ROBERT SMITH 9475838374 Email: info@qwikresume.com Website: www.qwikresume.com LinkedIn: linkedin.com/qwikresume Address: 1737, Alabama.', 'Objective Over 6 years of IT industry experience with 4+ years of experience as Mobile application developer in the field of Android.', 'Experience in developing front end applications for Android phones.', 'Experience developing mobile applications on Android platform, building Custom UI using Views, ViewGroups, Layouts, Widgets and graphics that scale based on the screen size using 9- patch images, localization, testing and publishing the applications to the Android Market.', 'Skills Python, Java, C, Javascript, Matlab, R. Domain .', 'Java Developer .', 'Work Experience ABC Corporation January 2011 March 2012 Environment Eclipse IDE, Android Studio, GenyMotion, Java, Android SDK, Android Development Tools (ADT), JSON, XML, Involved in the full life cycle of the project including analysis design, development, debugging, testing, and deployment.', 'Developed the application from specifications and requirement gathering.', 'Independently handled modules, scope, analysis, design, build, test the code, debug and implement application.', 'Developed products section of the application which provided Multiple Activities, Custom Adapters, Base Adapter, List views, Links, Web View, Text Views and so on.', 'Developed Navigation Drawer for the application, which provides better navigation of apps features.', 'Created new UI Screens and key resource for layout UI work utilizing xml, Shape Drawable, Text View, List View, Web View, Buttons, Activities, and Frame Layout.', 'Android Developer ABC Corporation 2006 2011 Helped Develop Insight, which is a tablet application that retrieves data from a CPE and displays it This is done to debug the DSL activity in someones home Pulled info from a cloud server and coded it onto a tablet Worked on UI and backend construction Connected to various computer boards where I retrieved Wi -Fi information from a server - Debugged code that was previously worked on by an outsourced company Education IT Technology - 2011(Gyumri Information Technologies Center)']\n"
     ]
    }
   ],
   "source": [
    "from nltk.tokenize import sent_tokenize                                                             #NLP : Tokenize\n",
    "token = sent_tokenize(clean)\n",
    "print(token)"
   ]
  },
  {
   "cell_type": "markdown",
   "id": "e8fdcb45",
   "metadata": {},
   "source": [
    "### Named Entity Recognition"
   ]
  },
  {
   "cell_type": "code",
   "execution_count": 13,
   "id": "65ce1a53",
   "metadata": {},
   "outputs": [
    {
     "name": "stdout",
     "output_type": "stream",
     "text": [
      "Domain \"['Java Developer .']\"\n"
     ]
    }
   ],
   "source": [
    "###Edites\n",
    "import Values as n\n",
    "import pandas as pd\n",
    "import spacy\n",
    "nlp = spacy.load(\"en_core_web_sm\")  \n",
    "doc = nlp(clean)    \n",
    "for chunk in doc.noun_chunks:      \n",
    "    noun_chunks = chunk.text\n",
    "\n",
    "def extract_skills(resume_text):\n",
    "    nlp_text = nlp(resume_text)\n",
    "\n",
    "    # removing stop words and implementing word tokenization\n",
    "    tokens = [token.text for token in nlp_text if not token.is_stop]\n",
    "    \n",
    "    # reading the csv file\n",
    "   \n",
    "    \n",
    "    lis = []                                                                                                        #Skills\n",
    "\n",
    "\n",
    "    str = token\n",
    "\n",
    "    import Values as v\n",
    "    a = set(str)\n",
    "    b = set(v.noun_chunk)\n",
    "    c = []\n",
    "\n",
    "    for i in a:\n",
    "        if i in b:\n",
    "            c.append(i)\n",
    "    return c\n",
    "\n",
    "\n",
    "   \n",
    "a = f'\"{extract_skills(clean)}\"'\n",
    "print(\"Domain\",a)\n"
   ]
  },
  {
   "cell_type": "code",
   "execution_count": 14,
   "id": "6129045b",
   "metadata": {},
   "outputs": [],
   "source": [
    "import re\n",
    "Emp_Domain = re.sub('[%s]' % re.escape(\"\"\"!\"#$%&'()*+,-./:;<=>?@[\\]^_`{|}~\"\"\"), ' ', a)\n",
    "Emp_Skill = re.sub('[%s]' % re.escape(\"\"\"!\"#$%&'()*+-./:;<=>?@[\\]^_`{|}~\"\"\"), ' ', Emp_skill)\n"
   ]
  },
  {
   "cell_type": "code",
   "execution_count": 15,
   "id": "827d4ca9",
   "metadata": {},
   "outputs": [
    {
     "name": "stdout",
     "output_type": "stream",
     "text": [
      "('ROBERT SMITH', 'Java Developer', 'python , code , matlab , c , javascript , java', 'info@qwikresume.com', '9475838374', '!')\n"
     ]
    }
   ],
   "source": [
    "stop = \"!\"\n",
    "def Reg(a,b,c,d,e,f):\n",
    "    a = re.sub('\\s+', ' ', a)\n",
    "    b = re.sub('\\s+', ' ', b)\n",
    "    c = re.sub('\\s+', ' ', c)\n",
    "    d = re.sub('\\s+', ' ', d)\n",
    "    e = re.sub('\\s+', ' ', e)\n",
    "    a =\" \".join(a.split())\n",
    "    b =\" \".join(b.split())\n",
    "    c =\" \".join(c.split())\n",
    "    d =\" \".join(d.split())\n",
    "    e =\" \".join(e.split())\n",
    "    f = \"!\"\n",
    "    return a,b,c,d,e,f\n",
    "   \n",
    "\n",
    "print(Reg(Emp_name,Emp_Domain,Emp_Skill,Emp_mail,Emp_Mobile,stop))\n",
    "\n",
    "\n",
    "\n",
    "    \n"
   ]
  },
  {
   "cell_type": "markdown",
   "id": "6777e3d6",
   "metadata": {},
   "source": [
    "### After Extracting all"
   ]
  },
  {
   "cell_type": "code",
   "execution_count": 16,
   "id": "b0c67f0b",
   "metadata": {},
   "outputs": [
    {
     "name": "stdout",
     "output_type": "stream",
     "text": [
      "('ROBERT SMITH', 'Java Developer', 'python , code , matlab , c , javascript , java', 'info@qwikresume.com', '9475838374', '!')\n"
     ]
    }
   ],
   "source": [
    "print(Reg(Emp_name,Emp_Domain,Emp_Skill,Emp_mail,Emp_Mobile,stop))"
   ]
  },
  {
   "cell_type": "markdown",
   "id": "8b86f638",
   "metadata": {},
   "source": [
    "### Import the details in csv format"
   ]
  },
  {
   "cell_type": "code",
   "execution_count": 17,
   "id": "b0ae6b08",
   "metadata": {},
   "outputs": [],
   "source": [
    "from csv import DictWriter\n",
    "field_names = ['Category', 'Resume']\n",
    "dict = {'Category': Emp_Domain, 'Resume':[Emp_name,Emp_Domain,Emp_Skill,Emp_mail,Emp_Mobile,stop]}\n",
    "with open('Emp.csv', 'a') as f_object:\n",
    "\tdictwriter_object = DictWriter(f_object, fieldnames=field_names)\n",
    "\n",
    "\t\n",
    "\tdictwriter_object.writerow(dict)\n",
    "\n",
    "\t\n",
    "\tf_object.close()\n"
   ]
  },
  {
   "cell_type": "code",
   "execution_count": 18,
   "id": "400e5c33",
   "metadata": {},
   "outputs": [
    {
     "name": "stdout",
     "output_type": "stream",
     "text": [
      "Name :  ROBERT SMITH\n",
      "Domain :     Java Developer     \n",
      "Skills :     python ,  code ,  matlab ,  c ,  javascript ,  java   \n",
      "Mail :  info@qwikresume.com\n",
      "Phone no :  9475838374\n"
     ]
    }
   ],
   "source": [
    "print(\"Name : \",Emp_name)\n",
    "print(\"Domain : \",Emp_Domain)\n",
    "print(\"Skills : \",Emp_Skill)\n",
    "print(\"Mail : \",Emp_mail)\n",
    "print(\"Phone no : \",Emp_Mobile)"
   ]
  },
  {
   "cell_type": "code",
   "execution_count": null,
   "id": "819ec903",
   "metadata": {},
   "outputs": [],
   "source": []
  }
 ],
 "metadata": {
  "kernelspec": {
   "display_name": "Python 3",
   "language": "python",
   "name": "python3"
  },
  "language_info": {
   "codemirror_mode": {
    "name": "ipython",
    "version": 3
   },
   "file_extension": ".py",
   "mimetype": "text/x-python",
   "name": "python",
   "nbconvert_exporter": "python",
   "pygments_lexer": "ipython3",
   "version": "3.8.8"
  }
 },
 "nbformat": 4,
 "nbformat_minor": 5
}
